{
 "cells": [
  {
   "cell_type": "markdown",
   "metadata": {},
   "source": [
    "Unsupervised Change Detection\n",
    "\n",
    "A lot of remote sensing DL models have been trained on RGB images. This is not useful as I am planning to use the Tree Cover derived from a deep learning model and stabilized with a Kalman Filter Smoother. "
   ]
  },
  {
   "cell_type": "markdown",
   "metadata": {},
   "source": [
    "# K-means\n",
    "\n",
    "Let's try to use K-means to detect changes in the tree cover. "
   ]
  },
  {
   "cell_type": "code",
   "execution_count": 10,
   "metadata": {},
   "outputs": [],
   "source": [
    "import os\n",
    "import rasterio\n",
    "from sklearn.cluster import KMeans\n",
    "import numpy as np\n",
    "\n",
    "def read_and_sort_files(directory):\n",
    "    # Retrieve all files from the directory\n",
    "    files = [os.path.join(directory, f) for f in os.listdir(directory) if f.endswith('.tif')]\n",
    "    # Sort files based on the date in the filename\n",
    "    files.sort(key=lambda x: x.split('/')[-1].split('_')[0])  # Adjust splitting based on your filename structure\n",
    "    return files\n",
    "\n",
    "def compute_change_map(file1, file2):\n",
    "    # Read the two raster files\n",
    "    with rasterio.open(file1) as src1:\n",
    "        image1 = src1.read(1)  # Read the first band\n",
    "\n",
    "    with rasterio.open(file2) as src2:\n",
    "        image2 = src2.read(1)  # Read the first band\n",
    "\n",
    "    # Compute the difference image\n",
    "    diff = image2 - image1\n",
    "\n",
    "    #keep only the negative values\n",
    "    diff = np.where(diff < 0, diff, 0)\n",
    "    \n",
    "    # Reshape diff for k-means\n",
    "    reshaped_diff = diff.reshape(-1, 1)\n",
    "\n",
    "    # Apply K-means clustering\n",
    "    kmeans = KMeans(n_clusters=2, random_state=0).fit(reshaped_diff)\n",
    "    labels = kmeans.labels_.reshape(diff.shape)\n",
    "\n",
    "    # Assuming the cluster with the higher mean is the change\n",
    "    change_map = labels if kmeans.cluster_centers_[1] > kmeans.cluster_centers_[0] else 1 - labels\n",
    "    return change_map, src1.meta\n",
    "\n",
    "def write_change_map(change_map, meta, output_folder, output_filename):\n",
    "    # Ensure the output folder exists\n",
    "    if not os.path.exists(output_folder):\n",
    "        os.makedirs(output_folder)\n",
    "\n",
    "    # Update metadata for a single band output\n",
    "    meta.update(count=1, dtype='uint8')\n",
    "\n",
    "    output_path = os.path.join(output_folder, output_filename + '.tif')\n",
    "    with rasterio.open(output_path, 'w', **meta) as dst:\n",
    "        dst.write(change_map.astype('uint8'), 1)\n",
    "\n"
   ]
  },
  {
   "cell_type": "code",
   "execution_count": 11,
   "metadata": {},
   "outputs": [
    {
     "name": "stderr",
     "output_type": "stream",
     "text": [
      "100%|██████████| 38/38 [00:10<00:00,  3.61it/s]\n"
     ]
    }
   ],
   "source": [
    "import os \n",
    "from tqdm import tqdm \n",
    "folder_path = '/Users/arthurcalvi/Data/disturbances-ex/bbox_sampling/324_20141228_20231228_fr-BourgogneFrancheComte-HauteSaone_Lat47.88_Lon6.60'\n",
    "folder_treecover = os.path.join(folder_path, 'smoothed_treecover')\n",
    "files = read_and_sort_files(folder_treecover)\n",
    "output_directory = os.path.join(folder_path, 'change_maps_kmeans')\n",
    "for i in tqdm(range(len(files) - 1)):\n",
    "    change_map, meta = compute_change_map(files[i], files[i+1])\n",
    "    date = files[i+1].split('/')[-1].split('_')[0]  # Adjust based on your filename structure\n",
    "    write_change_map(change_map, meta, output_directory, date)\n"
   ]
  },
  {
   "cell_type": "code",
   "execution_count": null,
   "metadata": {},
   "outputs": [],
   "source": [
    "\n",
    "# Directory containing your raster files\n",
    "input_directory = 'path_to_your_raster_files'\n",
    "\n",
    "\n",
    "# Processing\n",
    "files = read_and_sort_files(input_directory)\n",
    "for i in range(len(files) - 1):\n",
    "    change_map, meta = compute_change_map(files[i], files[i+1])\n",
    "    date = files[i+1].split('/')[-1].split('_')[0]  # Adjust based on your filename structure\n",
    "    write_change_map(change_map, meta, output_directory, date)"
   ]
  },
  {
   "cell_type": "code",
   "execution_count": 1,
   "metadata": {},
   "outputs": [
    {
     "name": "stdout",
     "output_type": "stream",
     "text": [
      "Looking in indexes: https://pypi.org/simple, https://pypi.dev-kayrros.ovh/simple/\n",
      "Collecting rasterio\n",
      "  Downloading rasterio-1.3.10-cp310-cp310-macosx_10_15_x86_64.whl.metadata (14 kB)\n",
      "Collecting scikit-learn\n",
      "  Downloading scikit_learn-1.4.2-cp310-cp310-macosx_10_9_x86_64.whl.metadata (11 kB)\n",
      "Collecting affine (from rasterio)\n",
      "  Using cached affine-2.4.0-py3-none-any.whl.metadata (4.0 kB)\n",
      "Collecting attrs (from rasterio)\n",
      "  Using cached attrs-23.2.0-py3-none-any.whl.metadata (9.5 kB)\n",
      "Collecting certifi (from rasterio)\n",
      "  Using cached certifi-2024.2.2-py3-none-any.whl.metadata (2.2 kB)\n",
      "Collecting click>=4.0 (from rasterio)\n",
      "  Using cached click-8.1.7-py3-none-any.whl.metadata (3.0 kB)\n",
      "Collecting cligj>=0.5 (from rasterio)\n",
      "  Using cached cligj-0.7.2-py3-none-any.whl.metadata (5.0 kB)\n",
      "Collecting numpy (from rasterio)\n",
      "  Using cached numpy-1.26.4-cp310-cp310-macosx_10_9_x86_64.whl.metadata (61 kB)\n",
      "Collecting snuggs>=1.4.1 (from rasterio)\n",
      "  Using cached snuggs-1.4.7-py3-none-any.whl.metadata (3.4 kB)\n",
      "Collecting click-plugins (from rasterio)\n",
      "  Using cached click_plugins-1.1.1-py2.py3-none-any.whl.metadata (6.4 kB)\n",
      "Requirement already satisfied: setuptools in ./.venv/lib/python3.10/site-packages (from rasterio) (69.2.0)\n",
      "Collecting scipy>=1.6.0 (from scikit-learn)\n",
      "  Downloading scipy-1.13.0-cp310-cp310-macosx_10_9_x86_64.whl.metadata (60 kB)\n",
      "\u001b[2K     \u001b[90m━━━━━━━━━━━━━━━━━━━━━━━━━━━━━━━━━━━━━━━━\u001b[0m \u001b[32m60.6/60.6 kB\u001b[0m \u001b[31m1.1 MB/s\u001b[0m eta \u001b[36m0:00:00\u001b[0ma \u001b[36m0:00:01\u001b[0m\n",
      "\u001b[?25hCollecting joblib>=1.2.0 (from scikit-learn)\n",
      "  Downloading joblib-1.4.0-py3-none-any.whl.metadata (5.4 kB)\n",
      "Collecting threadpoolctl>=2.0.0 (from scikit-learn)\n",
      "  Using cached threadpoolctl-3.4.0-py3-none-any.whl.metadata (13 kB)\n",
      "Collecting pyparsing>=2.1.6 (from snuggs>=1.4.1->rasterio)\n",
      "  Using cached pyparsing-3.1.2-py3-none-any.whl.metadata (5.1 kB)\n",
      "Downloading rasterio-1.3.10-cp310-cp310-macosx_10_15_x86_64.whl (20.6 MB)\n",
      "\u001b[2K   \u001b[90m━━━━━━━━━━━━━━━━━━━━━━━━━━━━━━━━━━━━━━━━\u001b[0m \u001b[32m20.6/20.6 MB\u001b[0m \u001b[31m36.4 MB/s\u001b[0m eta \u001b[36m0:00:00\u001b[0m00:01\u001b[0m00:01\u001b[0m\n",
      "\u001b[?25hDownloading scikit_learn-1.4.2-cp310-cp310-macosx_10_9_x86_64.whl (11.6 MB)\n",
      "\u001b[2K   \u001b[90m━━━━━━━━━━━━━━━━━━━━━━━━━━━━━━━━━━━━━━━━\u001b[0m \u001b[32m11.6/11.6 MB\u001b[0m \u001b[31m41.4 MB/s\u001b[0m eta \u001b[36m0:00:00\u001b[0m00:01\u001b[0m0:01\u001b[0m\n",
      "\u001b[?25hUsing cached click-8.1.7-py3-none-any.whl (97 kB)\n",
      "Using cached cligj-0.7.2-py3-none-any.whl (7.1 kB)\n",
      "Downloading joblib-1.4.0-py3-none-any.whl (301 kB)\n",
      "\u001b[2K   \u001b[90m━━━━━━━━━━━━━━━━━━━━━━━━━━━━━━━━━━━━━━━━\u001b[0m \u001b[32m301.2/301.2 kB\u001b[0m \u001b[31m10.7 MB/s\u001b[0m eta \u001b[36m0:00:00\u001b[0m\n",
      "\u001b[?25hUsing cached numpy-1.26.4-cp310-cp310-macosx_10_9_x86_64.whl (20.6 MB)\n",
      "Downloading scipy-1.13.0-cp310-cp310-macosx_10_9_x86_64.whl (39.3 MB)\n",
      "\u001b[2K   \u001b[90m━━━━━━━━━━━━━━━━━━━━━━━━━━━━━━━━━━━━━━━━\u001b[0m \u001b[32m39.3/39.3 MB\u001b[0m \u001b[31m35.3 MB/s\u001b[0m eta \u001b[36m0:00:00\u001b[0m00:01\u001b[0m00:01\u001b[0m\n",
      "\u001b[?25hUsing cached snuggs-1.4.7-py3-none-any.whl (5.4 kB)\n",
      "Using cached threadpoolctl-3.4.0-py3-none-any.whl (17 kB)\n",
      "Using cached affine-2.4.0-py3-none-any.whl (15 kB)\n",
      "Using cached attrs-23.2.0-py3-none-any.whl (60 kB)\n",
      "Using cached certifi-2024.2.2-py3-none-any.whl (163 kB)\n",
      "Using cached click_plugins-1.1.1-py2.py3-none-any.whl (7.5 kB)\n",
      "Using cached pyparsing-3.1.2-py3-none-any.whl (103 kB)\n",
      "Installing collected packages: threadpoolctl, pyparsing, numpy, joblib, click, certifi, attrs, affine, snuggs, scipy, cligj, click-plugins, scikit-learn, rasterio\n",
      "Successfully installed affine-2.4.0 attrs-23.2.0 certifi-2024.2.2 click-8.1.7 click-plugins-1.1.1 cligj-0.7.2 joblib-1.4.0 numpy-1.26.4 pyparsing-3.1.2 rasterio-1.3.10 scikit-learn-1.4.2 scipy-1.13.0 snuggs-1.4.7 threadpoolctl-3.4.0\n"
     ]
    }
   ],
   "source": [
    "\n"
   ]
  }
 ],
 "metadata": {
  "kernelspec": {
   "display_name": ".venv",
   "language": "python",
   "name": "python3"
  },
  "language_info": {
   "codemirror_mode": {
    "name": "ipython",
    "version": 3
   },
   "file_extension": ".py",
   "mimetype": "text/x-python",
   "name": "python",
   "nbconvert_exporter": "python",
   "pygments_lexer": "ipython3",
   "version": "3.10.14"
  }
 },
 "nbformat": 4,
 "nbformat_minor": 2
}
